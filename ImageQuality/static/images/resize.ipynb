{
 "cells": [
  {
   "cell_type": "markdown",
   "metadata": {},
   "source": [
    "### Here is a script that will resize the image that we are using "
   ]
  },
  {
   "cell_type": "code",
   "execution_count": 12,
   "metadata": {},
   "outputs": [],
   "source": [
    "# import library\n",
    "from PIL import Image\n",
    "import os\n"
   ]
  },
  {
   "cell_type": "code",
   "execution_count": 72,
   "metadata": {},
   "outputs": [
    {
     "name": "stdout",
     "output_type": "stream",
     "text": [
      "163\n",
      "./salad_toEdit/Italian Lentil Salad.jpg (1200, 1800)\n",
      "./salad_toEdit/Black Bean, Corn, and Tomato Salad with Feta Cheese.jpg (960, 960)\n",
      "./salad_toEdit/Italian Onion Cucumber Salad.jpg (1170, 1500)\n",
      "./salad_toEdit/Easy Thai Beef or Chicken Salad.jpg (1200, 1800)\n",
      "./salad_toEdit/Broccoli Salad.jpg (1200, 1800)\n",
      "./salad_toEdit/Hearty Green Leaf Salad.jpg (762, 451)\n",
      "./salad_toEdit/Greek Lentil Salad.jpg (2560, 1920)\n",
      "./salad_toEdit/Tuna Confetti Salad.jpg (2330, 3300)\n",
      "./salad_toEdit/Cucumber Sunomono.jpg (1200, 800)\n",
      "./salad_toEdit/Summer Potato Salad.jpg (1380, 1380)\n",
      "./salad_toEdit/Pretty Pomegranate Salad.jpg (750, 750)\n",
      "./salad_toEdit/Roasted Carrot Salad.jpg (600, 403)\n",
      "./salad_toEdit/Super Easy Salad.jpg (1392, 2089)\n",
      "./salad_toEdit/Cabbage Salad I.jpg (1200, 1800)\n",
      "./salad_toEdit/Spicy Tex-Mex Salad.jpg (960, 960)\n",
      "./salad_toEdit/Quinoa-Cranberry Salad with Pecans.jpg (717, 1024)\n",
      "./salad_toEdit/Ensalada Rusa.jpg (1200, 900)\n",
      "./salad_toEdit/Cinco De Mayo Salad.jpg (1132, 1154)\n",
      "./salad_toEdit/Green Pea Salad.jpg (1200, 1800)\n",
      "./salad_toEdit/Chickpea Salad II.jpg (1096, 1650)\n",
      "./salad_toEdit/Asian Bok Choy Salad.jpg (1200, 800)\n",
      "./salad_toEdit/Beet and Cucumber Salad.jpg (1200, 1200)\n",
      "./salad_toEdit/Mexican Salad 2.jpg (1200, 1800)\n",
      "./salad_toEdit/Vietnamese Chicken Cabbage Salad.jpg (1500, 1500)\n",
      "./salad_toEdit/White Beans and Tuna Salad.jpg (1500, 969)\n",
      "./salad_toEdit/Asparagus and Mandarin Orange Salad.jpg (720, 540)\n",
      "./salad_toEdit/Chinese Chicken Salad III.jpg (836, 1200)\n",
      "./salad_toEdit/#1 Pea Salad Most Requested!.jpg (512, 512)\n",
      "./salad_toEdit/Waldorf Salad II.jpg (1500, 1125)\n",
      "./salad_toEdit/Aunt Dorothy's Marinated Carrot Salad.jpg (1020, 680)\n",
      "./salad_toEdit/Black Bean and Corn Salad I.jpg (512, 512)\n",
      "./salad_toEdit/Sweet Potato and Avocado Salad.jpg (1000, 667)\n",
      "./salad_toEdit/Outrageously Good Holiday Salad.jpg (564, 317)\n",
      "./salad_toEdit/Napa Cabbage Salad.jpg (611, 512)\n",
      "./salad_toEdit/Maple Cannellini Bean Salad with Baby Broccoli and Butternut Squash.jpg (750, 750)\n",
      "./salad_toEdit/Jen's Heavenly Egg Salad.jpg (960, 960)\n",
      "./salad_toEdit/Cantaloupe Salad.jpg (3648, 5472)\n",
      "./salad_toEdit/Busy Day Lunch Salad.jpg (960, 960)\n",
      "./salad_toEdit/Kelly's Black Bean Salad.jpg (960, 657)\n",
      "./salad_toEdit/Shrimp and White Bean Salad.jpg (183, 275)\n",
      "./salad_toEdit/Hot German Potato Salad II.jpg (800, 450)\n",
      "./salad_toEdit/Greek Potato Salad.jpg (1200, 1800)\n",
      "./salad_toEdit/Fig and Arugula Salad.jpg (512, 512)\n",
      "./salad_toEdit/Lime Grilled Chicken Caesar Salad.jpg (715, 1073)\n",
      "./salad_toEdit/Benno's Bacon Potato Salad.jpg (1370, 1354)\n",
      "./salad_toEdit/Summer Chickpea Salad.jpg (735, 1049)\n",
      "./salad_toEdit/Summer Radish Salad.jpg (960, 960)\n",
      "./salad_toEdit/Easy and Quick Strawberry Summer Salad.jpg (960, 960)\n",
      "./salad_toEdit/Balsamic Green Bean Salad.jpg (1200, 1200)\n",
      "./salad_toEdit/Amby Rae's Cucumber Salad.jpg (250, 250)\n",
      "./salad_toEdit/Estrellita Salad.jpg (960, 960)\n",
      "./salad_toEdit/Mayonnaise-Free Tuna Salad.jpg (1200, 1800)\n",
      "./salad_toEdit/Corn Salad with Arugula.jpg (384, 512)\n",
      "./salad_toEdit/Cabbage Tomato and Onion Salad.jpg (1250, 1875)\n",
      "./salad_toEdit/Sister Slaw.jpg (420, 420)\n",
      "./salad_toEdit/Grilled Corn and Edamame Succotash Salad.jpg (1200, 1500)\n",
      "./salad_toEdit/Persian-Style Tomato Avocado Salad.jpg (960, 960)\n",
      "./salad_toEdit/Sweet-and-Sour Coleslaw.jpg (225, 225)\n",
      "./salad_toEdit/Quick Turkey Taco Salad.jpg (1200, 900)\n",
      "./salad_toEdit/Red Cabbage and Apple Salad.jpg (1500, 1000)\n",
      "./salad_toEdit/Wholewheat Tuna Treat.jpg (560, 315)\n",
      "./salad_toEdit/Roasted Asparagus and Yellow Pepper Salad.jpg (750, 750)\n",
      "./salad_toEdit/Tuna and Chickpea Salad.jpg (550, 825)\n",
      "./salad_toEdit/Thai Cucumber Salad.jpg (512, 512)\n",
      "./salad_toEdit/Strawberry Salad with Shallot-Honey Vinaigrette.jpg (960, 960)\n",
      "./salad_toEdit/Hot German Potato Salad I.jpg (384, 512)\n",
      "./salad_toEdit/Avocado Egg Salad.jpg (1024, 683)\n",
      "./salad_toEdit/Edamame Fresca.jpg (750, 750)\n",
      "./salad_toEdit/Strawberry Romaine Salad II.jpg (750, 750)\n",
      "./salad_toEdit/Great Green Salad.jpg (1160, 1606)\n",
      "./salad_toEdit/Poppin' Turkey Salad.jpg (1500, 1125)\n",
      "./salad_toEdit/Restaurant-Style House Salad.jpg (4000, 6000)\n",
      "./salad_toEdit/Grilled Vegetable Salad.jpg (720, 540)\n",
      "./salad_toEdit/Heather's Updated Potato Salad.jpg (1200, 1600)\n",
      "./salad_toEdit/Japanese Tofu Salad.jpg (800, 1200)\n",
      "./salad_toEdit/Mom's Italian Potato Salad.jpg (750, 563)\n",
      "./salad_toEdit/'Couldn't Be Easier' Three-Bean Salad.jpg (960, 960)\n",
      "./salad_toEdit/Twenty Four Hour Layered Salad.jpg (960, 960)\n",
      "./salad_toEdit/Mango, Orange, Grapefruit, Avocado, and Pistachio Salad.jpg (1024, 1024)\n",
      "./salad_toEdit/Preety's Chickpea Salad.jpg (750, 500)\n",
      "./salad_toEdit/Tofu Salad.jpg (1500, 1634)\n",
      "./salad_toEdit/Simplistic Pepper Salad.jpg (1200, 1662)\n",
      "./salad_toEdit/Corn Tomato Salad.jpg (275, 183)\n",
      "./salad_toEdit/Cucumber Peanut Salad.jpg (1200, 1800)\n",
      "./salad_toEdit/Almost Eggless Egg Salad.jpg (720, 720)\n",
      "./salad_toEdit/Israeli Tomato and Cucumber Salad.jpg (750, 750)\n",
      "./salad_toEdit/Steak Salad (Ranen Salad).jpg (259, 194)\n",
      "./salad_toEdit/Easy and Fast Cajun Chicken Caesar Salad.jpg (1500, 1125)\n",
      "./salad_toEdit/Two-Bean and Mango Salad.jpg (768, 768)\n",
      "./salad_toEdit/Japanese Cucumber Salad (Sunomono).jpg (1024, 683)\n",
      "./salad_toEdit/Taco Salad I.jpg (1500, 1125)\n",
      "./salad_toEdit/10-Minute Tomato Basil Salad.jpg (750, 500)\n",
      "./salad_toEdit/My Mom's Good Old Potato Salad.jpg (960, 960)\n",
      "./salad_toEdit/Beet Salad with Goat Cheese.jpg (1500, 1125)\n",
      "./salad_toEdit/ Chinese Chicken Salad II.jpg (900, 1260)\n",
      "./salad_toEdit/Ripe Olive Potato Salad.jpg (400, 400)\n",
      "./salad_toEdit/Kale Cranberry Pepita Salad.jpg (1080, 1080)\n",
      "./salad_toEdit/Beet Summer Salad.jpg (1000, 657)\n",
      "./salad_toEdit/Balela Salad.jpg (960, 960)\n",
      "./salad_toEdit/Baked Eggplant Salad.jpg (750, 563)\n",
      "./salad_toEdit/Red Cabbage and Chickpea Salad.jpg (683, 1024)\n",
      "./salad_toEdit/Waldorf Salad I.jpg (1200, 1800)\n",
      "./salad_toEdit/Quinoa Vegetable Salad.jpg (512, 512)\n",
      "./salad_toEdit/Tomato Mozzarella Salad with Balsamic Reduction.jpg (384, 512)\n",
      "./salad_toEdit/Crab & Avocado Salad with Fruit Salsa.jpg (940, 529)\n",
      "./salad_toEdit/Broccoli and Cauliflower Salad.jpg (600, 900)\n",
      "./salad_toEdit/Cool Cucumber Salad.jpg (512, 512)\n",
      "./salad_toEdit/Avocado Tuna Mousse.jpg (960, 960)\n",
      "./salad_toEdit/Light and Easy Greek Potato Salad.jpg (960, 960)\n",
      "./salad_toEdit/Crunchy Lettuce.jpg (1365, 2048)\n",
      "./salad_toEdit/Cherry Chicken Salad.jpg (978, 1120)\n",
      "./salad_toEdit/Moroccan Spicy Carrot Salad.jpg (1200, 1800)\n",
      "./salad_toEdit/Southwest Chicken Salad I.jpg (1200, 1416)\n",
      "./salad_toEdit/Black Bean Salad with Peaches.jpg (1200, 1800)\n",
      "./salad_toEdit/Ranch Red Skin Potato Salad.jpg (860, 573)\n",
      "./salad_toEdit/Apple Jicama Coleslaw.jpg (2560, 1707)\n",
      "./salad_toEdit/Tilapia Salad.jpg (1500, 1500)\n",
      "./salad_toEdit/Springtime Spinach Salad.jpg (688, 688)\n",
      "./salad_toEdit/Tropical Turkey Salad.jpg (1200, 1200)\n",
      "./salad_toEdit/Feta and Slow-Roasted Tomato Salad with French Green Beans.jpg (960, 960)\n",
      "./salad_toEdit/Goddess Beet Salad.jpg (960, 960)\n",
      "./salad_toEdit/Picnic Marinated Summer Slaw.jpg (1500, 1500)\n",
      "./salad_toEdit/Poppy Seed Salad.jpg (735, 980)\n",
      "./salad_toEdit/San Antonio Salad.jpg (300, 300)\n",
      "./salad_toEdit/Mexican-Style Black Bean and Corn Salad.jpg (1200, 1800)\n",
      "./salad_toEdit/Shrimp and Balsamic Butternut Squash Salad.jpg (545, 713)\n",
      "./salad_toEdit/Chicken Salad Balsamic.jpg (512, 512)\n",
      "./salad_toEdit/Mango Pineapple Salad with Mint.jpg (600, 400)\n",
      "./salad_toEdit/Conch Ceviche with Pineapple.jpg (3024, 3025)\n",
      "./salad_toEdit/Cucumber Slices With Dill.jpg (960, 960)\n",
      "./salad_toEdit/Tangy Ranch Apple Slaw.jpg (550, 733)\n",
      "./salad_toEdit/Japanese Restaurant Cucumber Salad.jpg (1200, 800)\n",
      "./salad_toEdit/Best Greek Quinoa Salad.jpg (1200, 1800)\n",
      "./salad_toEdit/Mediterranean Potato Salad.jpg (616, 924)\n",
      "./salad_toEdit/Crispy Cucumbers and Tomatoes in Dill Dressing.jpg (675, 940)\n",
      "./salad_toEdit/Smoked Salmon & Watercress Salad With Red Onion-Caper Vinaigrette.jpg (750, 516)\n",
      "./salad_toEdit/Strawberry Spinach Salad I.jpg (1200, 1596)\n",
      "./salad_toEdit/Beautiful Salad.jpg (512, 512)\n",
      "./salad_toEdit/Easy Warm Chickpea Salad.jpg (1500, 1500)\n",
      "./salad_toEdit/Singkamas (Jicama) Salad.jpg (500, 396)\n",
      "./salad_toEdit/Arugula-Fennel Salad.jpg (960, 960)\n",
      "./salad_toEdit/Falafel Cobb Salad.jpg (736, 552)\n",
      "./salad_toEdit/Egg Salad II.jpg (1200, 1200)\n",
      "./salad_toEdit/Tabbouleh Salad with Quinoa and Shredded Carrots.jpg (1164, 1164)\n",
      "./salad_toEdit/Lebanese Fattoush.jpg (750, 750)\n",
      "./salad_toEdit/Roasted Potato Salad with Vinaigrette.jpg (1200, 1800)\n",
      "./salad_toEdit/Sesame Jellyfish Salad.jpg (640, 480)\n",
      "./salad_toEdit/Mushroom Salad II.jpg (1080, 1620)\n",
      "./salad_toEdit/Strawberry-Mango Mesclun Salad.jpg (1200, 900)\n",
      "./salad_toEdit/Green Bean and Feta Salad.jpg (567, 850)\n",
      "./salad_toEdit/Greek Chicken Salad.jpg (1200, 1800)\n",
      "./salad_toEdit/Papa's Favorite Beet Salad.jpg (512, 512)\n",
      "./salad_toEdit/Ginger Chicken Salad Supreme.jpg (800, 1200)\n",
      "./salad_toEdit/Barley Salad With Almonds And Apricots.jpg (512, 512)\n",
      "./salad_toEdit/Lee's Taco Salad.jpg (750, 750)\n",
      "./salad_toEdit/Cottage Cheese Salad.jpg (1500, 1125)\n",
      "./salad_toEdit/Green Bean Salad with Feta.jpg (567, 850)\n",
      "./salad_toEdit/Shelly's Super Salad.jpg (250, 250)\n",
      "./salad_toEdit/Corn and Kale Salad.jpg (768, 512)\n",
      "./salad_toEdit/Schwabischer Kartoffelsalat (Schwabish Potato salad).jpg (1500, 1000)\n",
      "./salad_toEdit/Summer Pepper Salad.jpg (1200, 1200)\n",
      "./salad_toEdit/Arugula Caprese Salad.jpg (1200, 1200)\n",
      "./salad_toEdit/Mojito Salad.jpg (1500, 2000)\n"
     ]
    }
   ],
   "source": [
    "# Load the image\n",
    "dir_path =  ('./salad_toEdit')\n",
    "dir_list = os.listdir(dir_path)\n",
    "print(len(dir_list))\n",
    "for i in dir_list:\n",
    "    path = './salad_toEdit/' + i\n",
    "    image =  Image.open(path)\n",
    "    #print(path, image.size)\n",
    "    if image.width<400 || image.height < 400:\n",
    "        print('')\n",
    "\n",
    "    "
   ]
  },
  {
   "cell_type": "code",
   "execution_count": 25,
   "metadata": {},
   "outputs": [
    {
     "name": "stdout",
     "output_type": "stream",
     "text": [
      "(1200, 1200)\n"
     ]
    }
   ],
   "source": [
    "image =  Image.open('./salad_toEdit/ARUGULA CAPRESE SALAD.jpg')\n",
    "print(image.size)"
   ]
  },
  {
   "cell_type": "code",
   "execution_count": 52,
   "metadata": {},
   "outputs": [
    {
     "name": "stdout",
     "output_type": "stream",
     "text": [
      "(762, 451)\n"
     ]
    }
   ],
   "source": [
    "image =  Image.open('./salad_toEdit/HEARTY GREEN LEAF SALAD.jpg')\n",
    "print(image.size)\n",
    "image.show()"
   ]
  },
  {
   "cell_type": "code",
   "execution_count": 58,
   "metadata": {},
   "outputs": [],
   "source": [
    "resi = image.resize((500,300))\n",
    "resi.show()\n",
    "resi.save('./edited.jpg')"
   ]
  },
  {
   "cell_type": "code",
   "execution_count": 54,
   "metadata": {},
   "outputs": [
    {
     "name": "stdout",
     "output_type": "stream",
     "text": [
      "(762, 500)\n"
     ]
    }
   ],
   "source": [
    "image =  Image.open('./edited.jpg')\n",
    "print(image.size)"
   ]
  },
  {
   "cell_type": "code",
   "execution_count": null,
   "metadata": {},
   "outputs": [],
   "source": []
  }
 ],
 "metadata": {
  "kernelspec": {
   "display_name": "dev",
   "language": "python",
   "name": "python3"
  },
  "language_info": {
   "codemirror_mode": {
    "name": "ipython",
    "version": 3
   },
   "file_extension": ".py",
   "mimetype": "text/x-python",
   "name": "python",
   "nbconvert_exporter": "python",
   "pygments_lexer": "ipython3",
   "version": "3.8.8"
  },
  "orig_nbformat": 4
 },
 "nbformat": 4,
 "nbformat_minor": 2
}
